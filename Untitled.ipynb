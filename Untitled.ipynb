{
 "cells": [
  {
   "cell_type": "code",
   "execution_count": null,
   "id": "5700c5c8",
   "metadata": {},
   "outputs": [],
   "source": [
    "# Data Preparation"
   ]
  },
  {
   "cell_type": "code",
   "execution_count": null,
   "id": "d067f72c",
   "metadata": {},
   "outputs": [],
   "source": [
    "# Import the needed modules...\n",
    "import pandas as pd\n",
    "from collections import defaultdict\n",
    "from os import getcwd"
   ]
  },
  {
   "cell_type": "code",
   "execution_count": null,
   "id": "497822ab",
   "metadata": {},
   "outputs": [],
   "source": [
    "path_data   = f\"{getcwd()}/data/googleplaystore.csv\""
   ]
  },
  {
   "cell_type": "markdown",
   "id": "d14b7ea2",
   "metadata": {},
   "source": [
    "# Data Engineering<br>\n",
    "* ## Get data in dataframes.\n",
    "* ## Convert data to a single dictionary."
   ]
  },
  {
   "cell_type": "code",
   "execution_count": null,
   "id": "b13e7392",
   "metadata": {},
   "outputs": [],
   "source": [
    "\"\"\"\n",
    "    Read data from googleplaystore.csv\n",
    "\"\"\"\n",
    "df    = pd.read_csv(path_data)\n",
    "apps_columns = df.columns.tolist()\n",
    "print(f\"COLUMNS : {apps_columns}\")"
   ]
  },
  {
   "cell_type": "code",
   "execution_count": null,
   "id": "a77dca17",
   "metadata": {},
   "outputs": [],
   "source": [
    "\n",
    "# Sort apps dataframe on the basis of rating \n",
    "df_sorted = df.sort_values(by=['Rating'])"
   ]
  },
  {
   "cell_type": "code",
   "execution_count": null,
   "id": "1eeaa0f8",
   "metadata": {},
   "outputs": [],
   "source": [
    "df1 = pd.DataFrame(df)"
   ]
  },
  {
   "cell_type": "code",
   "execution_count": null,
   "id": "cdd52034",
   "metadata": {},
   "outputs": [],
   "source": [
    "df.drop(['Type', 'Content Rating','Last Updated','Current Ver','Android Ver'], axis = 1)"
   ]
  },
  {
   "cell_type": "code",
   "execution_count": null,
   "id": "7375d052",
   "metadata": {},
   "outputs": [],
   "source": [
    "# from movies dataframe...\n",
    "ratings = df_sorted[\"Rating\"].tolist()\n",
    "app_name = df_sorted[\"App\"].tolist()\n",
    "app_category = [Category.split(\"|\") for Category in df[\"Category\"].tolist()]\n",
    "app_reviews = [Reviews.split(\"|\") for Reviews in df[\"Reviews\"].tolist()]\n",
    "app_size = [Size.split(\"|\") for Size in df[\"Size\"].tolist()]\n",
    "app_Installs = [Installs.split(\"|\") for Installs in df[\"Installs\"].tolist()]\n",
    "\n",
    "app_Price = [Price.split(\"|\") for Price in df[\"Price\"].tolist()]\n",
    "app_Genres = [Genres.split(\"|\") for Genres in df[\"Genres\"].tolist()]\n",
    "\n"
   ]
  }
 ],
 "metadata": {
  "kernelspec": {
   "display_name": "Python 3",
   "language": "python",
   "name": "python3"
  },
  "language_info": {
   "codemirror_mode": {
    "name": "ipython",
    "version": 3
   },
   "file_extension": ".py",
   "mimetype": "text/x-python",
   "name": "python",
   "nbconvert_exporter": "python",
   "pygments_lexer": "ipython3",
   "version": "3.8.8"
  }
 },
 "nbformat": 4,
 "nbformat_minor": 5
}
